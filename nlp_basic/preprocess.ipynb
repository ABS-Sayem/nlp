{
 "cells": [
  {
   "cell_type": "code",
   "execution_count": 13,
   "metadata": {},
   "outputs": [],
   "source": [
    "import nltk\n",
    "import re"
   ]
  },
  {
   "cell_type": "code",
   "execution_count": 27,
   "metadata": {},
   "outputs": [
    {
     "name": "stdout",
     "output_type": "stream",
     "text": [
      "Natural language processing (NLP) is a subfield of linguistics, computer science, and artificial intelligence concerned with the interactions between computers and human language, in particular how to program computers to process and analyze large amounts of natural language data.\n"
     ]
    }
   ],
   "source": [
    "text = \"Natural language processing (NLP) is a subfield of linguistics, computer science, and artificial intelligence concerned with the interactions between computers and human language, in particular how to program computers to process and analyze large amounts of natural language data.\"\n",
    "print(text)"
   ]
  },
  {
   "cell_type": "code",
   "execution_count": 43,
   "metadata": {},
   "outputs": [
    {
     "ename": "SyntaxError",
     "evalue": "invalid syntax (Temp/ipykernel_4956/1917343287.py, line 12)",
     "output_type": "error",
     "traceback": [
      "\u001b[1;36m  File \u001b[1;32m\"C:\\Users\\AbsSayem\\AppData\\Local\\Temp/ipykernel_4956/1917343287.py\"\u001b[1;36m, line \u001b[1;32m12\u001b[0m\n\u001b[1;33m    stopped_text.add(words if words not in stop_words)\u001b[0m\n\u001b[1;37m                                                     ^\u001b[0m\n\u001b[1;31mSyntaxError\u001b[0m\u001b[1;31m:\u001b[0m invalid syntax\n"
     ]
    }
   ],
   "source": [
    "import re\n",
    "import nltk\n",
    "from nltk.corpus import stopwords\n",
    "\n",
    "text = text.lower()\n",
    "text = re.sub(r'\\W', ' ', text)\n",
    "text = text.split()\n",
    "\n",
    "stop_words = set(stopwords.words('english'))\n",
    "stopped_text = []\n",
    "for words in text:\n",
    "    stopped_text.add(words if words not in stop_words)\n",
    "text"
   ]
  },
  {
   "cell_type": "code",
   "execution_count": 39,
   "metadata": {},
   "outputs": [],
   "source": [
    "# Define peprocessing module\n",
    "import re\n",
    "import nltk\n",
    "from nltk.corpus import stopwords\n",
    "stop_words = set(stopwords.words('english'))\n",
    "def preprocess(document):\n",
    "    # lower the text\n",
    "    document=document.lower()\n",
    "    # remove all special char\n",
    "    document=re.sub(r'\\W', ' ', document)\n",
    "    # remove all single char\n",
    "    document=re.sub(r'\\s+[a-zA-Z]\\s+', ' ', document)\n",
    "    # remove single char from the start\n",
    "    document=re.sub(r'\\^[a-zA-Z]\\s+', ' ', document)\n",
    "    # remove prefixed 'b'\n",
    "    document = re.sub(r'^b\\s+', '', document)\n",
    "    # substituting multiple spaces into single\n",
    "    document=re.sub(r'\\s+', ' ', document, flags=re.I)\n",
    "    # remove stopwords\n",
    "    documnet=re.sub(r'stop_words','', document)\n",
    "    return document"
   ]
  },
  {
   "cell_type": "code",
   "execution_count": 40,
   "metadata": {},
   "outputs": [
    {
     "name": "stdout",
     "output_type": "stream",
     "text": [
      "natural language processing nlp is subfield of linguistics computer science and artificial intelligence concerned with the interactions between computers and human language in particular how to program computers to process and analyze large amounts of natural language data \n"
     ]
    }
   ],
   "source": [
    "text = preprocess(text)\n",
    "print(text)"
   ]
  },
  {
   "cell_type": "code",
   "execution_count": 21,
   "metadata": {},
   "outputs": [
    {
     "name": "stdout",
     "output_type": "stream",
     "text": [
      "Natural language processing  NLP  is a subfield of linguistics  computer science  and artificial intelligence concerned with the interactions between computers and human language  in particular how to program computers to process and analyze large amounts of natural language data \n"
     ]
    }
   ],
   "source": [
    "# Remove all special characters\n",
    "text = re.sub(r'\\W', ' ', text)    #'\\W' keeps only characters, removes special char\n",
    "print(text)"
   ]
  },
  {
   "cell_type": "code",
   "execution_count": 16,
   "metadata": {},
   "outputs": [
    {
     "name": "stdout",
     "output_type": "stream",
     "text": [
      "Natural language processing  NLP  issubfield of linguistics  computer science  and artificial intelligence concerned with the interactions between computers and human language  in particular how to program computers to process and analyze large amounts of natural language data \n"
     ]
    }
   ],
   "source": [
    "# Remove all single characters\n",
    "text = re.sub(r'\\s+[a-zA-Z]\\s+', '', text)\n",
    "print(text)"
   ]
  },
  {
   "cell_type": "code",
   "execution_count": 17,
   "metadata": {},
   "outputs": [
    {
     "name": "stdout",
     "output_type": "stream",
     "text": [
      "Natural language processing NLP issubfield of linguistics computer science and artificial intelligence concerned with the interactions between computers and human language in particular how to program computers to process and analyze large amounts of natural language data \n"
     ]
    }
   ],
   "source": [
    "# Substituting multiple spaces with single space\n",
    "text = re.sub(r'\\s+', ' ', text, flags=re.I)\n",
    "print(text)"
   ]
  },
  {
   "cell_type": "code",
   "execution_count": 18,
   "metadata": {},
   "outputs": [
    {
     "name": "stdout",
     "output_type": "stream",
     "text": [
      "natural language processing nlp issubfield of linguistics computer science and artificial intelligence concerned with the interactions between computers and human language in particular how to program computers to process and analyze large amounts of natural language data \n"
     ]
    }
   ],
   "source": [
    "# Converting to lower\n",
    "text = text.lower()\n",
    "print(text)"
   ]
  }
 ],
 "metadata": {
  "interpreter": {
   "hash": "88bd64abd146d54e091ff1398670d31add9e50ee4691cdc8ffb9431c01087a21"
  },
  "kernelspec": {
   "display_name": "Python 3.9.5 64-bit",
   "language": "python",
   "name": "python3"
  },
  "language_info": {
   "codemirror_mode": {
    "name": "ipython",
    "version": 3
   },
   "file_extension": ".py",
   "mimetype": "text/x-python",
   "name": "python",
   "nbconvert_exporter": "python",
   "pygments_lexer": "ipython3",
   "version": "3.9.5"
  },
  "orig_nbformat": 4
 },
 "nbformat": 4,
 "nbformat_minor": 2
}
