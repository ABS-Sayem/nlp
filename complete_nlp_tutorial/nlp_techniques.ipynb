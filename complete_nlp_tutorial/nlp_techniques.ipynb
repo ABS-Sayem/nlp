{
 "cells": [
  {
   "cell_type": "code",
   "execution_count": 1,
   "metadata": {},
   "outputs": [],
   "source": [
    "class Category:\n",
    "    TRAVEL = \"TRAVEL\"\n",
    "    CLOTHING = \"CLOTHING\"\n",
    "\n",
    "trainX = [\"I love train journey\",\"I love reading books on train\",\"Train journey is cheap\",\"I like to wear shirt\",\"T-shirt fits best in summer\"]\n",
    "trainY = [Category.TRAVEL, Category.TRAVEL, Category.TRAVEL, Category.CLOTHING, Category.CLOTHING]"
   ]
  },
  {
   "cell_type": "code",
   "execution_count": 7,
   "metadata": {},
   "outputs": [
    {
     "name": "stdout",
     "output_type": "stream",
     "text": [
      "['best', 'books', 'cheap', 'fits', 'in', 'is', 'journey', 'like', 'love', 'on', 'reading', 'shirt', 'summer', 'to', 'train', 'wear']\n",
      "[[0 0 0 0 0 0 1 0 1 0 0 0 0 0 1 0]\n",
      " [0 1 0 0 0 0 0 0 1 1 1 0 0 0 1 0]\n",
      " [0 0 1 0 0 1 1 0 0 0 0 0 0 0 1 0]\n",
      " [0 0 0 0 0 0 0 1 0 0 0 1 0 1 0 1]\n",
      " [1 0 0 1 1 0 0 0 0 0 0 1 1 0 0 0]]\n"
     ]
    }
   ],
   "source": [
    "from sklearn.feature_extraction.text import CountVectorizer\n",
    "\n",
    "vectorizer = CountVectorizer(binary=True)       # This is a unigram process. ie- vectorize per word\n",
    "#vectorizer = CountVectorizer(binary=True, ngram_range=(1,2))    # Bigram process\n",
    "trainX_vector = vectorizer.fit_transform(trainX)\n",
    "\n",
    "print(vectorizer.get_feature_names())\n",
    "print(trainX_vector.toarray())"
   ]
  },
  {
   "cell_type": "code",
   "execution_count": 8,
   "metadata": {},
   "outputs": [
    {
     "data": {
      "text/plain": [
       "SVC(kernel='linear')"
      ]
     },
     "execution_count": 8,
     "metadata": {},
     "output_type": "execute_result"
    }
   ],
   "source": [
    "# Define a Classifier\n",
    "from sklearn import svm\n",
    "\n",
    "linear_svm = svm.SVC(kernel='linear')\n",
    "linear_svm.fit(trainX_vector,trainY)"
   ]
  },
  {
   "cell_type": "code",
   "execution_count": 13,
   "metadata": {},
   "outputs": [
    {
     "data": {
      "text/plain": [
       "array(['TRAVEL'], dtype='<U8')"
      ]
     },
     "execution_count": 13,
     "metadata": {},
     "output_type": "execute_result"
    }
   ],
   "source": [
    "# Prediction\n",
    "testX = vectorizer.transform([\"visiting new place is great\"])\n",
    "\n",
    "linear_svm.predict(testX)"
   ]
  }
 ],
 "metadata": {
  "interpreter": {
   "hash": "703b2bc398e15cd74c7a93565a102b3060db76bb218c5bf5b3619260b8a02446"
  },
  "kernelspec": {
   "display_name": "Python 3.9.5 64-bit",
   "language": "python",
   "name": "python3"
  },
  "language_info": {
   "codemirror_mode": {
    "name": "ipython",
    "version": 3
   },
   "file_extension": ".py",
   "mimetype": "text/x-python",
   "name": "python",
   "nbconvert_exporter": "python",
   "pygments_lexer": "ipython3",
   "version": "3.9.5"
  },
  "orig_nbformat": 4
 },
 "nbformat": 4,
 "nbformat_minor": 2
}
