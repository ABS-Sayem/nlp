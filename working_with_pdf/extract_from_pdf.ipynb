version https://git-lfs.github.com/spec/v1
oid sha256:692ff2fdcff38c4930bcf69fb1a16ffbfbd4060b6a1c34c0934e7a25723b5385
size 29895
