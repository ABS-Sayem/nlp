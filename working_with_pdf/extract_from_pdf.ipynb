version https://git-lfs.github.com/spec/v1
oid sha256:7824d5786c5106f7aa99b4f93910a01e2dc47ca0cc32762173c09c9cccf4f405
size 22625
