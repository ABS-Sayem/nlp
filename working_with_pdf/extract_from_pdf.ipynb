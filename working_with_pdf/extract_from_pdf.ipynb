version https://git-lfs.github.com/spec/v1
oid sha256:6afd522ee9a6929381d959ac60f6e3d182c3c7d751a9a91822c63b9226108536
size 34529
