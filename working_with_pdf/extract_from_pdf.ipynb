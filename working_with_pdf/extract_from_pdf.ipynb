version https://git-lfs.github.com/spec/v1
oid sha256:86bace6dbe7bd4006aa776c601d9488bd2e7dc5f081348573e8ca30fce68d886
size 34627
