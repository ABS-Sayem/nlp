version https://git-lfs.github.com/spec/v1
oid sha256:f7f0fe92324dd206b9b29bed10cd082915485ac1b5106a14ff1d1e160d9478f0
size 33742
