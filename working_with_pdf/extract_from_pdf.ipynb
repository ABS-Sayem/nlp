version https://git-lfs.github.com/spec/v1
oid sha256:24d5e52f8bb3fb704db9e4b7b7a995deba7b554e606164d986045227d4b4e57a
size 34505
