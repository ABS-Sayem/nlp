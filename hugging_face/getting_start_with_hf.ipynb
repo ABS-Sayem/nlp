{
 "cells": [
  {
   "cell_type": "markdown",
   "metadata": {},
   "source": [
    "### **Transformers, Pipeline, Tokenizer, Models**"
   ]
  },
  {
   "cell_type": "markdown",
   "metadata": {},
   "source": [
    "**Install Transformers**\n",
    "* `pip install transformers` will install the huggingface transformers library.\n",
    "* We can use the transformers library on-top-of `PyTorch` or `Tensorflow`. So, we need to install any of the two first.\n",
    "* `pip install tensorflow` for tensorflow and `pip install torch` for pytorch."
   ]
  },
  {
   "cell_type": "markdown",
   "metadata": {},
   "source": [
    "**Pipeline**"
   ]
  },
  {
   "cell_type": "code",
   "execution_count": 2,
   "metadata": {},
   "outputs": [
    {
     "name": "stderr",
     "output_type": "stream",
     "text": [
      "No model was supplied, defaulted to distilbert-base-uncased-finetuned-sst-2-english and revision af0f99b (https://huggingface.co/distilbert-base-uncased-finetuned-sst-2-english).\n",
      "Using a pipeline without specifying a model name and revision in production is not recommended.\n"
     ]
    },
    {
     "name": "stdout",
     "output_type": "stream",
     "text": [
      "[{'label': 'POSITIVE', 'score': 0.9715973138809204}]\n"
     ]
    }
   ],
   "source": [
    "# Import pipeline\n",
    "from transformers import pipeline\n",
    "\n",
    "# Create an object: we need to create an object for a task\n",
    "# huggingface has pipelines for various tasks. You can check here. (https://huggingface.co/models)\n",
    "classifier = pipeline(\"sentiment-analysis\")\n",
    "# We didn't choice any model, so it will choice a model on-behalf.\n",
    "sentiment = classifier(\"I want to learn transformers in-depth\")\n",
    "print(sentiment)"
   ]
  },
  {
   "cell_type": "markdown",
   "metadata": {},
   "source": [
    "`What a pipeline do?`: A pipeline basically do three things:\n",
    "* `preprocess` text (in this case- by applying a tokenizer)\n",
    "* `fit the text to model`\n",
    "* `postprocessing` the output (in this case- show us the sentiment and the score)\n",
    "> The things can be different for different tasks."
   ]
  }
 ],
 "metadata": {
  "kernelspec": {
   "display_name": "Python 3",
   "language": "python",
   "name": "python3"
  },
  "language_info": {
   "codemirror_mode": {
    "name": "ipython",
    "version": 3
   },
   "file_extension": ".py",
   "mimetype": "text/x-python",
   "name": "python",
   "nbconvert_exporter": "python",
   "pygments_lexer": "ipython3",
   "version": "3.9.13"
  },
  "orig_nbformat": 4
 },
 "nbformat": 4,
 "nbformat_minor": 2
}
