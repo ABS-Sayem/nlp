{
 "cells": [
  {
   "cell_type": "markdown",
   "metadata": {},
   "source": [
    "### **Transformers, Pipeline, Tokenizer, Models**"
   ]
  },
  {
   "cell_type": "markdown",
   "metadata": {},
   "source": [
    "##### **Install Transformers**\n",
    "* `pip install transformers` will install the huggingface transformers library.\n",
    "* We can use the transformers library on-top-of `PyTorch` or `Tensorflow`. So, we need to install any of the two first.\n",
    "* `pip install tensorflow` for tensorflow and `pip install torch` for pytorch."
   ]
  },
  {
   "cell_type": "markdown",
   "metadata": {},
   "source": [
    "##### **Pipeline**\n",
    "**`What a pipeline do?`:** A pipeline basically do three things:\n",
    "* `preprocess` text (in this case- by applying a tokenizer)\n",
    "* `fit the text to model`\n",
    "* `postprocessing` the output (in this case- show us the sentiment and the score)\n",
    "> The things can be different for different tasks."
   ]
  },
  {
   "cell_type": "markdown",
   "metadata": {},
   "source": [
    "**Example-1: Sentiment Analysis**"
   ]
  },
  {
   "cell_type": "code",
   "execution_count": 3,
   "metadata": {},
   "outputs": [
    {
     "name": "stderr",
     "output_type": "stream",
     "text": [
      "No model was supplied, defaulted to distilbert-base-uncased-finetuned-sst-2-english and revision af0f99b (https://huggingface.co/distilbert-base-uncased-finetuned-sst-2-english).\n",
      "Using a pipeline without specifying a model name and revision in production is not recommended.\n"
     ]
    },
    {
     "name": "stdout",
     "output_type": "stream",
     "text": [
      "[{'label': 'POSITIVE', 'score': 0.9715973138809204}]\n"
     ]
    }
   ],
   "source": [
    "# Import pipeline\n",
    "# huggingface has pipelines for various tasks. You can check here. (https://huggingface.co/models)\n",
    "from transformers import pipeline\n",
    "\n",
    "# Create an object: we need to create an object for a task. We won't choice any model, so it will choice a default model on-behalf.\n",
    "classifier = pipeline(\"sentiment-analysis\")\n",
    "\n",
    "# Obtain sentiment using the classifier\n",
    "sentiment = classifier(\"I want to learn transformers in-depth\")\n",
    "\n",
    "# See the sentiment\n",
    "print(sentiment)"
   ]
  },
  {
   "cell_type": "markdown",
   "metadata": {},
   "source": [
    "**Example-2: Text Generation**"
   ]
  },
  {
   "cell_type": "code",
   "execution_count": 7,
   "metadata": {},
   "outputs": [
    {
     "name": "stderr",
     "output_type": "stream",
     "text": [
      "C:\\Users\\Abs_Sayem\\AppData\\Roaming\\Python\\Python39\\site-packages\\transformers\\generation\\utils.py:1219: UserWarning: You have modified the pretrained model configuration to control generation. This is a deprecated strategy to control generation and will be removed soon, in a future version. Please use a generation configuration file (see https://huggingface.co/docs/transformers/main_classes/text_generation)\n",
      "  warnings.warn(\n",
      "Setting `pad_token_id` to `eos_token_id`:50256 for open-end generation.\n"
     ]
    },
    {
     "name": "stdout",
     "output_type": "stream",
     "text": [
      "[{'generated_text': 'The text generator libaray of huggingface consists of a few lines and is used when you wish to hug someone (if they are close/warm/close in the case of hug), but when you want to hug someone you just do so just do so with an emoji. In the case of hug'}]\n"
     ]
    }
   ],
   "source": [
    "from transformers import pipeline\n",
    "\n",
    "# Define the generator: we will choice a model here with the task object.\n",
    "generator = pipeline(\"text-generation\", model=\"distilgpt2\")\n",
    "\n",
    "# Define the generator parameters and generate text\n",
    "sentance_portion = \"The text generator libaray of huggingface consists of\"  # We will complete sentence using the generator\n",
    "generated_sentence = generator(sentance_portion, \n",
    "                               max_length=50,   # default 20\n",
    "                               num_return_sequences=1)\n",
    "# We can modify the generation parameters. See here (https://huggingface.co/docs/transformers/main_classes/text_generation) for details.\n",
    "\n",
    "# See the generated sentence\n",
    "print(generated_sentence)"
   ]
  }
 ],
 "metadata": {
  "kernelspec": {
   "display_name": "Python 3",
   "language": "python",
   "name": "python3"
  },
  "language_info": {
   "codemirror_mode": {
    "name": "ipython",
    "version": 3
   },
   "file_extension": ".py",
   "mimetype": "text/x-python",
   "name": "python",
   "nbconvert_exporter": "python",
   "pygments_lexer": "ipython3",
   "version": "3.9.13"
  },
  "orig_nbformat": 4
 },
 "nbformat": 4,
 "nbformat_minor": 2
}
