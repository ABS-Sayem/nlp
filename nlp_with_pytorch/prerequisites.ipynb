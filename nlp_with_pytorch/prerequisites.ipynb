{
 "cells": [
  {
   "cell_type": "markdown",
   "metadata": {},
   "source": [
    "##### Prerequisites\n",
    "*> *****Basic ML Knowlwdge****** - *Neural Nets, Predictions and Loss Functions*\n",
    "\n",
    "*> *****Intermediate Python Skills******"
   ]
  },
  {
   "cell_type": "markdown",
   "metadata": {},
   "source": [
    "##### Goals\n",
    "*> *****Recap key ideas in Deep Learning******\n",
    "\n",
    "*> *****Convert recent DL-based NLP developments****** - *Sequence Modeling, Fine-Tuning*"
   ]
  }
 ],
 "metadata": {
  "language_info": {
   "name": "python"
  },
  "orig_nbformat": 4
 },
 "nbformat": 4,
 "nbformat_minor": 2
}
